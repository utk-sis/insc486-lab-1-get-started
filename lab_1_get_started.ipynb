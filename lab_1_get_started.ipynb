{
  "nbformat": 4,
  "nbformat_minor": 0,
  "metadata": {
    "colab": {
      "name": "lab_1_get_started.ipynb",
      "provenance": [],
      "collapsed_sections": [],
      "toc_visible": true
    },
    "kernelspec": {
      "name": "python3",
      "display_name": "Python 3"
    }
  },
  "cells": [
    {
      "cell_type": "markdown",
      "metadata": {
        "id": "7Et4sYOiVUAN"
      },
      "source": [
        "# INSC 486, Spring 2021: Data Analytics\n",
        "## Lab 1: Get Started\n",
        "\n",
        "This first lab is intended to help you get set up in the course. \n",
        "\n",
        "If you haven't already done so, you should use [this link](https://classroom.github.com/a/gVmFFaCc) to officially accept this lab.  Like most labs and assignment in this course, all of the files for this lab are contained in a single GitHub repository (i.e., a collection of files hosted on GitHub's servers).  Assignments are set up using \"template\" repositories.  The idea is that these templates for each lab will provide a framework for you to work with.  Your job is to follow each lab's instructions and fill in the missing pieces of code and/or text.\n",
        "\n",
        "When you accept an lab (e.g., using the GitHub classroom link above) this uses the lab's template repository to create a personal \"fork\" (copy) of the files.  A message should inform you where this fork is located (i.e., a web address); this will normally be something like `https://github.com/utk-sis/lab-1-get-started-<username>`, where \"`<username>`\" is replaced with your actual GitHub username.\n",
        "\n",
        "After accepting the lab using the above link, you should open the `lab-1-get-started.ipynb` notebook in Google Colaboratory by clicking [this link](https://colab.research.google.com/github/utk-sis/insc486-lab-1-get-started/blob/master/lab_1_get_started.ipynb). You can click `Copy to Drive` to make copy on Google Drive.\n",
        "\n",
        "**If you've already [accepted this lab](https://classroom.github.com/a/gVmFFaCc), please continue on.  If you haven't accepted the lab, or if you aren't viewing this notebook in Google Colaboratory, please follow the above instructions so that you can carry out this lab.**\n",
        "\n",
        "### Lab goals\n",
        "\n",
        "You're going to learn four things in this lab:\n",
        "\n",
        "1.   How to use Jupyter (Colaboratory) notebooks,\n",
        "2.   How to set up your Google Colaboratory and GitHub accounts,\n",
        "3.   How to access and submit labs,\n",
        "4.   And get familiar with Python basics.\n",
        "\n",
        "### Total point value of this lab\n",
        "\n",
        "This lab is worth a total of 1 point of your final grade."
      ]
    },
    {
      "cell_type": "markdown",
      "metadata": {
        "id": "taMUWizwWIY3"
      },
      "source": [
        "# Part 1: Jupyter notebooks, Google Colaboratory, and GitHub\n",
        "\n",
        "You should start by going through [this notebook](https://github.com/utk-sis/insc486/blob/master/introduction_to_colab_and_github.ipynb) to familiarize yourself with Jupyter notebooks and Google Colaboratory (and setting up your Google Colaboratory and GitHub accounts).  Follow the instructions in the notebook to set up your accounts.\n",
        "\n",
        "Change the code in the next cell to indicate that you've gone through the introductory notebook, read about Jupyter/Colaboratory notebooks, set up your Google Colaboratory account, and set up your GitHub account.  You should change each variable from `False` to `True` to show which tasks you have (by self-report) accomplished.  Also update the `github_username` variable to indicate your GitHub username. "
      ]
    },
    {
      "cell_type": "code",
      "metadata": {
        "id": "7ZlQqKauX_Hp"
      },
      "source": [
        "### BEGIN YOUR CODE\n",
        "#I have read through the Introduction and Overview notebook\n",
        "READ_INTRODUCTION = False\n",
        "\n",
        "#I understand (at a high level) what Jupyter notebooks are and how to read and\n",
        "#interact with them (or I have been in touch with the course instructor to ask for help)\n",
        "LEARNED_ABOUT_JUPYTER = False\n",
        "\n",
        "#I've created (or already have) a Google account and can access Google\n",
        "#Colaboratory under my own account\n",
        "ACCESS_COLABORATORY = False\n",
        "\n",
        "#I've created a GitHub account\n",
        "CREATED_GITHUB_ACCOUNT = False\n",
        "github_username = 'username'\n",
        "\n",
        "#My info\n",
        "my_name = 'Name'\n",
        "### END YOUR CODE"
      ],
      "execution_count": null,
      "outputs": []
    },
    {
      "cell_type": "markdown",
      "metadata": {
        "id": "9sLVgJynY_WG"
      },
      "source": [
        "# Part 2: Python Exercises\n"
      ]
    },
    {
      "cell_type": "markdown",
      "metadata": {
        "id": "B4jQedsDKhhB"
      },
      "source": [
        "## 1. Write a function\n",
        "\n",
        "In the next cell, write a function that takes in your `name` as input, and returns the string `'Hello, <name>!'` (replacing `<name>` with whatever the user passed in)."
      ]
    },
    {
      "cell_type": "code",
      "metadata": {
        "id": "oITVWK4DK_Td"
      },
      "source": [
        "def greet(name):\n",
        "  ### BEGIN YOUR CODE\n",
        "  return None\n",
        "  ### END YOUR CODE"
      ],
      "execution_count": null,
      "outputs": []
    },
    {
      "cell_type": "markdown",
      "metadata": {
        "id": "VhYnbzNgS8sh"
      },
      "source": [
        "### 2. Operators\n",
        "Write a Python program to solve (x + y) * (x + y).\n",
        "\n",
        "Test Data : x = 4, y = 3\n",
        "\n",
        "Expected Output : (4 + 3) ^ 2) = 49"
      ]
    },
    {
      "cell_type": "code",
      "metadata": {
        "id": "PVZRieltTOS3"
      },
      "source": [
        "x, y = 4, 3\n",
        "### BEGIN YOUR CODE\n",
        "\n",
        "### END YOUR CODE\n",
        "print(\"({} + {}) ^ 2) = {}\".format(x, y, result))"
      ],
      "execution_count": null,
      "outputs": []
    },
    {
      "cell_type": "markdown",
      "metadata": {
        "id": "-9-DGF_KTp5N"
      },
      "source": [
        "### 3. if and else\n",
        "Write a Python program to test whether a number is within 100 of 1000."
      ]
    },
    {
      "cell_type": "code",
      "metadata": {
        "id": "v2QQTlFcUs1z"
      },
      "source": [
        "def near_thousand(n):\n",
        "  ### BEGIN YOUR CODE\n",
        "  return None\n",
        "  ### END YOUR CODE\n",
        "\n",
        "print(near_thousand(100)) # False\n",
        "print(near_thousand(999)) # True"
      ],
      "execution_count": null,
      "outputs": []
    },
    {
      "cell_type": "markdown",
      "metadata": {
        "id": "aEwnCFKMbEp8"
      },
      "source": [
        "# Part 3: Submit your lab\n",
        "\n",
        "Once you've completed the tasks above and have finished going through the text, it's time to submit your lab!\n",
        "\n",
        "First, make sure to save your notebook (`File` > `Save`).\n",
        "\n",
        "Next, click the `File` menu button (upper left) and select `Save a copy in GitHub...`.  A dialog box will pop up, asking you where to save the file.  You should save your copy of this notebook in your lab's GitHub repository (i.e., something like `https://github.com/utk-sis/lab-1-get-started-<username>`, where \"`<username>`\" is replaced with your actual GitHub username).  Saving a copy of this notebook to your lab's GitHub repository constitutes \"submitting\" the lab.\n",
        "\n",
        "\n",
        "## Important sanity check\n",
        "\n",
        "After you successfully submit your lab, your web browser should open a new tab (or window) showing your where (on GitHub) your lab notebook has been copied to.  Scroll through the notebook within that GitHub page and verify that your notebook is correct (i.e., that it contains the changes you made to the original lab template file).\n",
        "\n",
        "## Updating your submission\n",
        "\n",
        "Prior to the lab deadline you can re-submit your lab as often as you would like.  This will update the copy of your lab file in your lab's repository.  Once the lab deadline is reached, the copy of your lab on GitHub will be submitted automatically (other than syncing your Colaboratory copy to GitHub, no additional action is required to submit this lab).  Prior submitted versions of your lab will become part of your lab's submission history.\n",
        "\n",
        "### Re-starting your submission from scratch\n",
        "\n",
        "To restart your submission from scratch (from the original template notebook for this lab), simply re-open the lab's notebook in Colaboratory using [this link](https://colab.research.google.com/github/utk-sis/insc486-lab-1-get-started/blob/master/lab_1_get_started.ipynb). \n"
      ]
    }
  ]
}
